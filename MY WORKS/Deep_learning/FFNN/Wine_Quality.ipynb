{
  "nbformat": 4,
  "nbformat_minor": 0,
  "metadata": {
    "colab": {
      "name": "Wine_Quality.ipynb",
      "provenance": []
    },
    "kernelspec": {
      "name": "python3",
      "display_name": "Python 3"
    },
    "accelerator": "GPU"
  },
  "cells": [
    {
      "cell_type": "code",
      "metadata": {
        "id": "oU637sgk6Akj"
      },
      "source": [
        "# Basic packages\n",
        "import pandas as pd \n",
        "import numpy as np\n",
        "import re\n",
        "import collections\n",
        "import matplotlib.pyplot as plt\n",
        "\n",
        "# Modeling, selection, and evaluation\n",
        "from fastai.text import *\n",
        "from sklearn.model_selection import train_test_split\n",
        "from sklearn.metrics import confusion_matrix, accuracy_score\n",
        "from sklearn.utils.multiclass import unique_labels\n",
        "\n",
        "%matplotlib inline "
      ],
      "execution_count": 1,
      "outputs": []
    },
    {
      "cell_type": "code",
      "metadata": {
        "colab": {
          "base_uri": "https://localhost:8080/"
        },
        "id": "Puqf3zhW7vFr",
        "outputId": "e6e03162-2406-49ff-c63f-9be45d336194"
      },
      "source": [
        "# Use seaborn for pairplot\n",
        "!pip install seaborn\n",
        "\n",
        "# Use some functions from tensorflow_docs\n",
        "!pip install git+https://github.com/tensorflow/docs"
      ],
      "execution_count": 2,
      "outputs": [
        {
          "output_type": "stream",
          "text": [
            "Requirement already satisfied: seaborn in /usr/local/lib/python3.6/dist-packages (0.11.0)\n",
            "Requirement already satisfied: matplotlib>=2.2 in /usr/local/lib/python3.6/dist-packages (from seaborn) (3.2.2)\n",
            "Requirement already satisfied: scipy>=1.0 in /usr/local/lib/python3.6/dist-packages (from seaborn) (1.4.1)\n",
            "Requirement already satisfied: numpy>=1.15 in /usr/local/lib/python3.6/dist-packages (from seaborn) (1.19.4)\n",
            "Requirement already satisfied: pandas>=0.23 in /usr/local/lib/python3.6/dist-packages (from seaborn) (1.1.5)\n",
            "Requirement already satisfied: pyparsing!=2.0.4,!=2.1.2,!=2.1.6,>=2.0.1 in /usr/local/lib/python3.6/dist-packages (from matplotlib>=2.2->seaborn) (2.4.7)\n",
            "Requirement already satisfied: python-dateutil>=2.1 in /usr/local/lib/python3.6/dist-packages (from matplotlib>=2.2->seaborn) (2.8.1)\n",
            "Requirement already satisfied: cycler>=0.10 in /usr/local/lib/python3.6/dist-packages (from matplotlib>=2.2->seaborn) (0.10.0)\n",
            "Requirement already satisfied: kiwisolver>=1.0.1 in /usr/local/lib/python3.6/dist-packages (from matplotlib>=2.2->seaborn) (1.3.1)\n",
            "Requirement already satisfied: pytz>=2017.2 in /usr/local/lib/python3.6/dist-packages (from pandas>=0.23->seaborn) (2018.9)\n",
            "Requirement already satisfied: six>=1.5 in /usr/local/lib/python3.6/dist-packages (from python-dateutil>=2.1->matplotlib>=2.2->seaborn) (1.15.0)\n",
            "Collecting git+https://github.com/tensorflow/docs\n",
            "  Cloning https://github.com/tensorflow/docs to /tmp/pip-req-build-ina5pheu\n",
            "  Running command git clone -q https://github.com/tensorflow/docs /tmp/pip-req-build-ina5pheu\n",
            "Requirement already satisfied (use --upgrade to upgrade): tensorflow-docs===0.0.0430fe3be375a1f3f6267b86300e1c0f1d79b2b26- from git+https://github.com/tensorflow/docs in /usr/local/lib/python3.6/dist-packages\n",
            "Requirement already satisfied: astor in /usr/local/lib/python3.6/dist-packages (from tensorflow-docs===0.0.0430fe3be375a1f3f6267b86300e1c0f1d79b2b26-) (0.8.1)\n",
            "Requirement already satisfied: absl-py in /usr/local/lib/python3.6/dist-packages (from tensorflow-docs===0.0.0430fe3be375a1f3f6267b86300e1c0f1d79b2b26-) (0.10.0)\n",
            "Requirement already satisfied: protobuf>=3.14 in /usr/local/lib/python3.6/dist-packages (from tensorflow-docs===0.0.0430fe3be375a1f3f6267b86300e1c0f1d79b2b26-) (3.14.0)\n",
            "Requirement already satisfied: pyyaml in /usr/local/lib/python3.6/dist-packages (from tensorflow-docs===0.0.0430fe3be375a1f3f6267b86300e1c0f1d79b2b26-) (3.13)\n",
            "Requirement already satisfied: dataclasses in /usr/local/lib/python3.6/dist-packages (from tensorflow-docs===0.0.0430fe3be375a1f3f6267b86300e1c0f1d79b2b26-) (0.8)\n",
            "Requirement already satisfied: six in /usr/local/lib/python3.6/dist-packages (from absl-py->tensorflow-docs===0.0.0430fe3be375a1f3f6267b86300e1c0f1d79b2b26-) (1.15.0)\n",
            "Building wheels for collected packages: tensorflow-docs\n",
            "  Building wheel for tensorflow-docs (setup.py) ... \u001b[?25l\u001b[?25hdone\n",
            "  Created wheel for tensorflow-docs: filename=tensorflow_docs-0.0.0430fe3be375a1f3f6267b86300e1c0f1d79b2b26_-cp36-none-any.whl size=146357 sha256=07539850afbf1ddb27271d5cd291924b5628f3df5f466eebc3112128b18f729b\n",
            "  Stored in directory: /tmp/pip-ephem-wheel-cache-rq0k2q3y/wheels/eb/1b/35/fce87697be00d2fc63e0b4b395b0d9c7e391a10e98d9a0d97f\n",
            "Successfully built tensorflow-docs\n"
          ],
          "name": "stdout"
        }
      ]
    },
    {
      "cell_type": "code",
      "metadata": {
        "colab": {
          "base_uri": "https://localhost:8080/"
        },
        "id": "bt64fgsg70PA",
        "outputId": "f7207e14-86c2-43bb-c329-b6061662abab"
      },
      "source": [
        "import tensorflow as tf\n",
        "\n",
        "from tensorflow import keras\n",
        "from tensorflow.keras import layers\n",
        "\n",
        "print(tf.__version__)"
      ],
      "execution_count": 3,
      "outputs": [
        {
          "output_type": "stream",
          "text": [
            "2.4.0\n"
          ],
          "name": "stdout"
        }
      ]
    },
    {
      "cell_type": "code",
      "metadata": {
        "id": "RH7jkCj88Jpe"
      },
      "source": [
        "import tensorflow_docs as tfdocs\n",
        "import tensorflow_docs.plots\n",
        "import tensorflow_docs.modeling"
      ],
      "execution_count": 4,
      "outputs": []
    },
    {
      "cell_type": "code",
      "metadata": {
        "colab": {
          "base_uri": "https://localhost:8080/"
        },
        "id": "g49HR_Y58MZL",
        "outputId": "09a1c142-08c8-43cb-9761-06e0dc2f3737"
      },
      "source": [
        "from google.colab import drive\n",
        "drive.mount('/content/drive')"
      ],
      "execution_count": 5,
      "outputs": [
        {
          "output_type": "stream",
          "text": [
            "Drive already mounted at /content/drive; to attempt to forcibly remount, call drive.mount(\"/content/drive\", force_remount=True).\n"
          ],
          "name": "stdout"
        }
      ]
    },
    {
      "cell_type": "code",
      "metadata": {
        "colab": {
          "base_uri": "https://localhost:8080/",
          "height": 292
        },
        "id": "KsxW4yHT8REz",
        "outputId": "f4597d7b-80f7-4905-a18b-05cfaf9a9b4a"
      },
      "source": [
        "# Read file into dataframe\n",
        "pd.set_option('display.max_colwidth', -1)\n",
        "df = pd.read_csv('/content/drive/MyDrive/data/winequality.csv',sep=\";\")\n",
        "df = df.reindex(np.random.permutation(df.index))  \n",
        "df.head()"
      ],
      "execution_count": 6,
      "outputs": [
        {
          "output_type": "stream",
          "text": [
            "/usr/local/lib/python3.6/dist-packages/ipykernel_launcher.py:2: FutureWarning: Passing a negative integer is deprecated in version 1.0 and will not be supported in future version. Instead, use None to not limit the column width.\n",
            "  \n"
          ],
          "name": "stderr"
        },
        {
          "output_type": "execute_result",
          "data": {
            "text/html": [
              "<div>\n",
              "<style scoped>\n",
              "    .dataframe tbody tr th:only-of-type {\n",
              "        vertical-align: middle;\n",
              "    }\n",
              "\n",
              "    .dataframe tbody tr th {\n",
              "        vertical-align: top;\n",
              "    }\n",
              "\n",
              "    .dataframe thead th {\n",
              "        text-align: right;\n",
              "    }\n",
              "</style>\n",
              "<table border=\"1\" class=\"dataframe\">\n",
              "  <thead>\n",
              "    <tr style=\"text-align: right;\">\n",
              "      <th></th>\n",
              "      <th>fixed acidity</th>\n",
              "      <th>volatile acidity</th>\n",
              "      <th>citric acid</th>\n",
              "      <th>residual sugar</th>\n",
              "      <th>chlorides</th>\n",
              "      <th>free sulfur dioxide</th>\n",
              "      <th>total sulfur dioxide</th>\n",
              "      <th>density</th>\n",
              "      <th>pH</th>\n",
              "      <th>sulphates</th>\n",
              "      <th>alcohol</th>\n",
              "      <th>quality</th>\n",
              "    </tr>\n",
              "  </thead>\n",
              "  <tbody>\n",
              "    <tr>\n",
              "      <th>119</th>\n",
              "      <td>7.3</td>\n",
              "      <td>0.320</td>\n",
              "      <td>0.48</td>\n",
              "      <td>13.3</td>\n",
              "      <td>0.060</td>\n",
              "      <td>57.0</td>\n",
              "      <td>196.0</td>\n",
              "      <td>0.99820</td>\n",
              "      <td>3.04</td>\n",
              "      <td>0.50</td>\n",
              "      <td>9.2</td>\n",
              "      <td>5</td>\n",
              "    </tr>\n",
              "    <tr>\n",
              "      <th>1882</th>\n",
              "      <td>7.7</td>\n",
              "      <td>0.300</td>\n",
              "      <td>0.42</td>\n",
              "      <td>14.3</td>\n",
              "      <td>0.045</td>\n",
              "      <td>45.0</td>\n",
              "      <td>213.0</td>\n",
              "      <td>0.99910</td>\n",
              "      <td>3.18</td>\n",
              "      <td>0.63</td>\n",
              "      <td>9.2</td>\n",
              "      <td>5</td>\n",
              "    </tr>\n",
              "    <tr>\n",
              "      <th>3023</th>\n",
              "      <td>7.0</td>\n",
              "      <td>0.450</td>\n",
              "      <td>0.34</td>\n",
              "      <td>19.8</td>\n",
              "      <td>0.040</td>\n",
              "      <td>12.0</td>\n",
              "      <td>67.0</td>\n",
              "      <td>0.99760</td>\n",
              "      <td>3.07</td>\n",
              "      <td>0.38</td>\n",
              "      <td>11.0</td>\n",
              "      <td>6</td>\n",
              "    </tr>\n",
              "    <tr>\n",
              "      <th>4660</th>\n",
              "      <td>6.6</td>\n",
              "      <td>0.330</td>\n",
              "      <td>0.41</td>\n",
              "      <td>2.0</td>\n",
              "      <td>0.027</td>\n",
              "      <td>14.0</td>\n",
              "      <td>79.0</td>\n",
              "      <td>0.99063</td>\n",
              "      <td>3.27</td>\n",
              "      <td>0.63</td>\n",
              "      <td>12.4</td>\n",
              "      <td>6</td>\n",
              "    </tr>\n",
              "    <tr>\n",
              "      <th>2630</th>\n",
              "      <td>5.9</td>\n",
              "      <td>0.445</td>\n",
              "      <td>0.26</td>\n",
              "      <td>1.4</td>\n",
              "      <td>0.027</td>\n",
              "      <td>23.0</td>\n",
              "      <td>109.0</td>\n",
              "      <td>0.99148</td>\n",
              "      <td>3.30</td>\n",
              "      <td>0.36</td>\n",
              "      <td>10.5</td>\n",
              "      <td>6</td>\n",
              "    </tr>\n",
              "  </tbody>\n",
              "</table>\n",
              "</div>"
            ],
            "text/plain": [
              "      fixed acidity  volatile acidity  citric acid  ...  sulphates  alcohol  quality\n",
              "119   7.3            0.320             0.48         ...  0.50       9.2      5      \n",
              "1882  7.7            0.300             0.42         ...  0.63       9.2      5      \n",
              "3023  7.0            0.450             0.34         ...  0.38       11.0     6      \n",
              "4660  6.6            0.330             0.41         ...  0.63       12.4     6      \n",
              "2630  5.9            0.445             0.26         ...  0.36       10.5     6      \n",
              "\n",
              "[5 rows x 12 columns]"
            ]
          },
          "metadata": {
            "tags": []
          },
          "execution_count": 6
        }
      ]
    },
    {
      "cell_type": "code",
      "metadata": {
        "id": "q0EYyBLq8leW"
      },
      "source": [
        "train_dataset = df.sample(frac=0.8,random_state=0)\n",
        "test_dataset = df.drop(train_dataset.index)"
      ],
      "execution_count": 7,
      "outputs": []
    },
    {
      "cell_type": "code",
      "metadata": {
        "colab": {
          "base_uri": "https://localhost:8080/",
          "height": 390
        },
        "id": "eM3i-72r8q6v",
        "outputId": "3dac4d3b-c5e6-4cd6-e72f-38d8ad2efe47"
      },
      "source": [
        "train_stats = train_dataset.describe()\n",
        "train_stats.pop(\"quality\")\n",
        "train_stats = train_stats.transpose()\n",
        "train_stats"
      ],
      "execution_count": 8,
      "outputs": [
        {
          "output_type": "execute_result",
          "data": {
            "text/html": [
              "<div>\n",
              "<style scoped>\n",
              "    .dataframe tbody tr th:only-of-type {\n",
              "        vertical-align: middle;\n",
              "    }\n",
              "\n",
              "    .dataframe tbody tr th {\n",
              "        vertical-align: top;\n",
              "    }\n",
              "\n",
              "    .dataframe thead th {\n",
              "        text-align: right;\n",
              "    }\n",
              "</style>\n",
              "<table border=\"1\" class=\"dataframe\">\n",
              "  <thead>\n",
              "    <tr style=\"text-align: right;\">\n",
              "      <th></th>\n",
              "      <th>count</th>\n",
              "      <th>mean</th>\n",
              "      <th>std</th>\n",
              "      <th>min</th>\n",
              "      <th>25%</th>\n",
              "      <th>50%</th>\n",
              "      <th>75%</th>\n",
              "      <th>max</th>\n",
              "    </tr>\n",
              "  </thead>\n",
              "  <tbody>\n",
              "    <tr>\n",
              "      <th>fixed acidity</th>\n",
              "      <td>3918.0</td>\n",
              "      <td>6.863451</td>\n",
              "      <td>0.835928</td>\n",
              "      <td>3.90000</td>\n",
              "      <td>6.30000</td>\n",
              "      <td>6.800000</td>\n",
              "      <td>7.4000</td>\n",
              "      <td>14.2000</td>\n",
              "    </tr>\n",
              "    <tr>\n",
              "      <th>volatile acidity</th>\n",
              "      <td>3918.0</td>\n",
              "      <td>0.277764</td>\n",
              "      <td>0.099183</td>\n",
              "      <td>0.08000</td>\n",
              "      <td>0.21000</td>\n",
              "      <td>0.260000</td>\n",
              "      <td>0.3200</td>\n",
              "      <td>1.0050</td>\n",
              "    </tr>\n",
              "    <tr>\n",
              "      <th>citric acid</th>\n",
              "      <td>3918.0</td>\n",
              "      <td>0.335521</td>\n",
              "      <td>0.119438</td>\n",
              "      <td>0.00000</td>\n",
              "      <td>0.27000</td>\n",
              "      <td>0.320000</td>\n",
              "      <td>0.3900</td>\n",
              "      <td>1.6600</td>\n",
              "    </tr>\n",
              "    <tr>\n",
              "      <th>residual sugar</th>\n",
              "      <td>3918.0</td>\n",
              "      <td>6.388017</td>\n",
              "      <td>5.040021</td>\n",
              "      <td>0.60000</td>\n",
              "      <td>1.70000</td>\n",
              "      <td>5.100000</td>\n",
              "      <td>9.9000</td>\n",
              "      <td>31.6000</td>\n",
              "    </tr>\n",
              "    <tr>\n",
              "      <th>chlorides</th>\n",
              "      <td>3918.0</td>\n",
              "      <td>0.045906</td>\n",
              "      <td>0.022104</td>\n",
              "      <td>0.00900</td>\n",
              "      <td>0.03600</td>\n",
              "      <td>0.043000</td>\n",
              "      <td>0.0500</td>\n",
              "      <td>0.3460</td>\n",
              "    </tr>\n",
              "    <tr>\n",
              "      <th>free sulfur dioxide</th>\n",
              "      <td>3918.0</td>\n",
              "      <td>35.143951</td>\n",
              "      <td>16.570467</td>\n",
              "      <td>3.00000</td>\n",
              "      <td>23.00000</td>\n",
              "      <td>33.000000</td>\n",
              "      <td>45.0000</td>\n",
              "      <td>146.5000</td>\n",
              "    </tr>\n",
              "    <tr>\n",
              "      <th>total sulfur dioxide</th>\n",
              "      <td>3918.0</td>\n",
              "      <td>138.212098</td>\n",
              "      <td>42.025875</td>\n",
              "      <td>9.00000</td>\n",
              "      <td>108.00000</td>\n",
              "      <td>134.000000</td>\n",
              "      <td>167.0000</td>\n",
              "      <td>366.5000</td>\n",
              "    </tr>\n",
              "    <tr>\n",
              "      <th>density</th>\n",
              "      <td>3918.0</td>\n",
              "      <td>0.994038</td>\n",
              "      <td>0.002925</td>\n",
              "      <td>0.98722</td>\n",
              "      <td>0.99176</td>\n",
              "      <td>0.993755</td>\n",
              "      <td>0.9961</td>\n",
              "      <td>1.0103</td>\n",
              "    </tr>\n",
              "    <tr>\n",
              "      <th>pH</th>\n",
              "      <td>3918.0</td>\n",
              "      <td>3.188420</td>\n",
              "      <td>0.150232</td>\n",
              "      <td>2.72000</td>\n",
              "      <td>3.09000</td>\n",
              "      <td>3.180000</td>\n",
              "      <td>3.2800</td>\n",
              "      <td>3.8200</td>\n",
              "    </tr>\n",
              "    <tr>\n",
              "      <th>sulphates</th>\n",
              "      <td>3918.0</td>\n",
              "      <td>0.490232</td>\n",
              "      <td>0.113367</td>\n",
              "      <td>0.22000</td>\n",
              "      <td>0.41000</td>\n",
              "      <td>0.480000</td>\n",
              "      <td>0.5500</td>\n",
              "      <td>1.0800</td>\n",
              "    </tr>\n",
              "    <tr>\n",
              "      <th>alcohol</th>\n",
              "      <td>3918.0</td>\n",
              "      <td>10.504270</td>\n",
              "      <td>1.224168</td>\n",
              "      <td>8.00000</td>\n",
              "      <td>9.50000</td>\n",
              "      <td>10.400000</td>\n",
              "      <td>11.4000</td>\n",
              "      <td>14.2000</td>\n",
              "    </tr>\n",
              "  </tbody>\n",
              "</table>\n",
              "</div>"
            ],
            "text/plain": [
              "                       count        mean  ...       75%       max\n",
              "fixed acidity         3918.0  6.863451    ...  7.4000    14.2000 \n",
              "volatile acidity      3918.0  0.277764    ...  0.3200    1.0050  \n",
              "citric acid           3918.0  0.335521    ...  0.3900    1.6600  \n",
              "residual sugar        3918.0  6.388017    ...  9.9000    31.6000 \n",
              "chlorides             3918.0  0.045906    ...  0.0500    0.3460  \n",
              "free sulfur dioxide   3918.0  35.143951   ...  45.0000   146.5000\n",
              "total sulfur dioxide  3918.0  138.212098  ...  167.0000  366.5000\n",
              "density               3918.0  0.994038    ...  0.9961    1.0103  \n",
              "pH                    3918.0  3.188420    ...  3.2800    3.8200  \n",
              "sulphates             3918.0  0.490232    ...  0.5500    1.0800  \n",
              "alcohol               3918.0  10.504270   ...  11.4000   14.2000 \n",
              "\n",
              "[11 rows x 8 columns]"
            ]
          },
          "metadata": {
            "tags": []
          },
          "execution_count": 8
        }
      ]
    },
    {
      "cell_type": "code",
      "metadata": {
        "id": "PtOJrjB88uwl"
      },
      "source": [
        "train_labels = train_dataset.pop('quality')\n",
        "test_labels = test_dataset.pop('quality')"
      ],
      "execution_count": 9,
      "outputs": []
    },
    {
      "cell_type": "code",
      "metadata": {
        "id": "l4Curio68yVQ"
      },
      "source": [
        "def norm(x):\n",
        "  return (x - train_stats['mean']) / train_stats['std']\n",
        "normed_train_data = norm(train_dataset)\n",
        "normed_test_data = norm(test_dataset)"
      ],
      "execution_count": 10,
      "outputs": []
    },
    {
      "cell_type": "code",
      "metadata": {
        "id": "9m3HIkTV81KZ"
      },
      "source": [
        "def build_model():\n",
        "  model = keras.Sequential([\n",
        "    layers.Dense(64, activation='relu', input_shape=[len(train_dataset.keys())]),\n",
        "    layers.Dense(128, activation='relu'),\n",
        "    layers.Dense(64,activation ='relu'),\n",
        "    layers.Dense(1)\n",
        "  ])\n",
        "\n",
        "  optimizer = tf.keras.optimizers.RMSprop(0.001)\n",
        "\n",
        "  model.compile(loss='mse',\n",
        "                optimizer=optimizer,\n",
        "                metrics=['mae', 'mse'])\n",
        "  return model"
      ],
      "execution_count": 11,
      "outputs": []
    },
    {
      "cell_type": "code",
      "metadata": {
        "id": "bs2-MN4d84ZD"
      },
      "source": [
        "model = build_model()"
      ],
      "execution_count": 12,
      "outputs": []
    },
    {
      "cell_type": "code",
      "metadata": {
        "colab": {
          "base_uri": "https://localhost:8080/"
        },
        "id": "jkOE46iV87uO",
        "outputId": "7b03e1fd-b104-4775-c660-f375c49824d5"
      },
      "source": [
        "EPOCHS = 1000\n",
        "\n",
        "history = model.fit(\n",
        "  normed_train_data, train_labels,\n",
        "  epochs=EPOCHS, validation_split = 0.2, verbose=0,\n",
        "  callbacks=[tfdocs.modeling.EpochDots()])"
      ],
      "execution_count": 13,
      "outputs": [
        {
          "output_type": "stream",
          "text": [
            "\n",
            "Epoch: 0, loss:4.9529,  mae:1.6375,  mse:4.9529,  val_loss:2.0559,  val_mae:1.0676,  val_mse:2.0559,  \n",
            "....................................................................................................\n",
            "Epoch: 100, loss:0.1516,  mae:0.3017,  mse:0.1516,  val_loss:0.5962,  val_mae:0.5596,  val_mse:0.5962,  \n",
            "....................................................................................................\n",
            "Epoch: 200, loss:0.0628,  mae:0.1926,  mse:0.0628,  val_loss:0.6317,  val_mae:0.5773,  val_mse:0.6317,  \n",
            "....................................................................................................\n",
            "Epoch: 300, loss:0.0392,  mae:0.1513,  mse:0.0392,  val_loss:0.6818,  val_mae:0.5825,  val_mse:0.6818,  \n",
            "....................................................................................................\n",
            "Epoch: 400, loss:0.0328,  mae:0.1400,  mse:0.0328,  val_loss:0.6305,  val_mae:0.5542,  val_mse:0.6305,  \n",
            "....................................................................................................\n",
            "Epoch: 500, loss:0.0254,  mae:0.1223,  mse:0.0254,  val_loss:0.5992,  val_mae:0.5404,  val_mse:0.5992,  \n",
            "....................................................................................................\n",
            "Epoch: 600, loss:0.0205,  mae:0.1090,  mse:0.0205,  val_loss:0.5954,  val_mae:0.5350,  val_mse:0.5954,  \n",
            "....................................................................................................\n",
            "Epoch: 700, loss:0.0183,  mae:0.1031,  mse:0.0183,  val_loss:0.6207,  val_mae:0.5567,  val_mse:0.6207,  \n",
            "....................................................................................................\n",
            "Epoch: 800, loss:0.0156,  mae:0.0938,  mse:0.0156,  val_loss:0.5631,  val_mae:0.5124,  val_mse:0.5631,  \n",
            "....................................................................................................\n",
            "Epoch: 900, loss:0.0151,  mae:0.0925,  mse:0.0151,  val_loss:0.5705,  val_mae:0.5217,  val_mse:0.5705,  \n",
            "...................................................................................................."
          ],
          "name": "stdout"
        }
      ]
    },
    {
      "cell_type": "code",
      "metadata": {
        "colab": {
          "base_uri": "https://localhost:8080/",
          "height": 204
        },
        "id": "J-UK9imC9ATp",
        "outputId": "2c0a5bd4-49c5-4168-b38a-9decb4bc0466"
      },
      "source": [
        "hist = pd.DataFrame(history.history)\n",
        "hist['epoch'] = history.epoch\n",
        "hist.tail()"
      ],
      "execution_count": 14,
      "outputs": [
        {
          "output_type": "execute_result",
          "data": {
            "text/html": [
              "<div>\n",
              "<style scoped>\n",
              "    .dataframe tbody tr th:only-of-type {\n",
              "        vertical-align: middle;\n",
              "    }\n",
              "\n",
              "    .dataframe tbody tr th {\n",
              "        vertical-align: top;\n",
              "    }\n",
              "\n",
              "    .dataframe thead th {\n",
              "        text-align: right;\n",
              "    }\n",
              "</style>\n",
              "<table border=\"1\" class=\"dataframe\">\n",
              "  <thead>\n",
              "    <tr style=\"text-align: right;\">\n",
              "      <th></th>\n",
              "      <th>loss</th>\n",
              "      <th>mae</th>\n",
              "      <th>mse</th>\n",
              "      <th>val_loss</th>\n",
              "      <th>val_mae</th>\n",
              "      <th>val_mse</th>\n",
              "      <th>epoch</th>\n",
              "    </tr>\n",
              "  </thead>\n",
              "  <tbody>\n",
              "    <tr>\n",
              "      <th>995</th>\n",
              "      <td>0.013312</td>\n",
              "      <td>0.087327</td>\n",
              "      <td>0.013312</td>\n",
              "      <td>0.547624</td>\n",
              "      <td>0.502926</td>\n",
              "      <td>0.547624</td>\n",
              "      <td>995</td>\n",
              "    </tr>\n",
              "    <tr>\n",
              "      <th>996</th>\n",
              "      <td>0.012999</td>\n",
              "      <td>0.085719</td>\n",
              "      <td>0.012999</td>\n",
              "      <td>0.546988</td>\n",
              "      <td>0.500395</td>\n",
              "      <td>0.546988</td>\n",
              "      <td>996</td>\n",
              "    </tr>\n",
              "    <tr>\n",
              "      <th>997</th>\n",
              "      <td>0.013839</td>\n",
              "      <td>0.089179</td>\n",
              "      <td>0.013839</td>\n",
              "      <td>0.555690</td>\n",
              "      <td>0.506955</td>\n",
              "      <td>0.555690</td>\n",
              "      <td>997</td>\n",
              "    </tr>\n",
              "    <tr>\n",
              "      <th>998</th>\n",
              "      <td>0.014007</td>\n",
              "      <td>0.090756</td>\n",
              "      <td>0.014007</td>\n",
              "      <td>0.545416</td>\n",
              "      <td>0.504179</td>\n",
              "      <td>0.545416</td>\n",
              "      <td>998</td>\n",
              "    </tr>\n",
              "    <tr>\n",
              "      <th>999</th>\n",
              "      <td>0.013119</td>\n",
              "      <td>0.085909</td>\n",
              "      <td>0.013119</td>\n",
              "      <td>0.558975</td>\n",
              "      <td>0.517895</td>\n",
              "      <td>0.558975</td>\n",
              "      <td>999</td>\n",
              "    </tr>\n",
              "  </tbody>\n",
              "</table>\n",
              "</div>"
            ],
            "text/plain": [
              "         loss       mae       mse  val_loss   val_mae   val_mse  epoch\n",
              "995  0.013312  0.087327  0.013312  0.547624  0.502926  0.547624  995  \n",
              "996  0.012999  0.085719  0.012999  0.546988  0.500395  0.546988  996  \n",
              "997  0.013839  0.089179  0.013839  0.555690  0.506955  0.555690  997  \n",
              "998  0.014007  0.090756  0.014007  0.545416  0.504179  0.545416  998  \n",
              "999  0.013119  0.085909  0.013119  0.558975  0.517895  0.558975  999  "
            ]
          },
          "metadata": {
            "tags": []
          },
          "execution_count": 14
        }
      ]
    },
    {
      "cell_type": "code",
      "metadata": {
        "id": "m7P-5U8y-N1L"
      },
      "source": [
        "plotter = tfdocs.plots.HistoryPlotter(smoothing_std=2)"
      ],
      "execution_count": 15,
      "outputs": []
    },
    {
      "cell_type": "code",
      "metadata": {
        "colab": {
          "base_uri": "https://localhost:8080/",
          "height": 300
        },
        "id": "h4YPZ41P-Xrf",
        "outputId": "77a3910e-cfa1-4984-8380-6f12b12818ed"
      },
      "source": [
        "plotter.plot({'Basic': history}, metric = \"mae\")\n",
        "plt.ylim([0, 4])\n",
        "plt.ylabel('MAE [MPG]')"
      ],
      "execution_count": 16,
      "outputs": [
        {
          "output_type": "execute_result",
          "data": {
            "text/plain": [
              "Text(0, 0.5, 'MAE [MPG]')"
            ]
          },
          "metadata": {
            "tags": []
          },
          "execution_count": 16
        },
        {
          "output_type": "display_data",
          "data": {
            "image/png": "[encoded data removed]",
            "text/plain": [
              "<Figure size 432x288 with 1 Axes>"
            ]
          },
          "metadata": {
            "tags": [],
            "needs_background": "light"
          }
        }
      ]
    },
    {
      "cell_type": "code",
      "metadata": {
        "colab": {
          "base_uri": "https://localhost:8080/"
        },
        "id": "ZNOMHK_R-ato",
        "outputId": "779a1ffa-f3d1-455b-d374-bc88d334432d"
      },
      "source": [
        "model = build_model()\n",
        "\n",
        "# The patience parameter is the amount of epochs to check for improvement\n",
        "early_stop = keras.callbacks.EarlyStopping(monitor='val_loss', patience=10)\n",
        "\n",
        "early_history = model.fit(normed_train_data, train_labels, \n",
        "                    epochs=EPOCHS, validation_split = 0.2, verbose=0, \n",
        "                    callbacks=[early_stop, tfdocs.modeling.EpochDots()])"
      ],
      "execution_count": 17,
      "outputs": [
        {
          "output_type": "stream",
          "text": [
            "\n",
            "Epoch: 0, loss:4.1685,  mae:1.5190,  mse:4.1685,  val_loss:1.7433,  val_mae:0.9911,  val_mse:1.7433,  \n",
            "........................"
          ],
          "name": "stdout"
        }
      ]
    },
    {
      "cell_type": "code",
      "metadata": {
        "colab": {
          "base_uri": "https://localhost:8080/",
          "height": 204
        },
        "id": "xYkkrZGu-fgu",
        "outputId": "3f33196f-c80a-4289-d968-50084824e65c"
      },
      "source": [
        "hist = pd.DataFrame(early_history.history)\n",
        "hist['epoch'] = early_history.epoch\n",
        "hist.tail()"
      ],
      "execution_count": 18,
      "outputs": [
        {
          "output_type": "execute_result",
          "data": {
            "text/html": [
              "<div>\n",
              "<style scoped>\n",
              "    .dataframe tbody tr th:only-of-type {\n",
              "        vertical-align: middle;\n",
              "    }\n",
              "\n",
              "    .dataframe tbody tr th {\n",
              "        vertical-align: top;\n",
              "    }\n",
              "\n",
              "    .dataframe thead th {\n",
              "        text-align: right;\n",
              "    }\n",
              "</style>\n",
              "<table border=\"1\" class=\"dataframe\">\n",
              "  <thead>\n",
              "    <tr style=\"text-align: right;\">\n",
              "      <th></th>\n",
              "      <th>loss</th>\n",
              "      <th>mae</th>\n",
              "      <th>mse</th>\n",
              "      <th>val_loss</th>\n",
              "      <th>val_mae</th>\n",
              "      <th>val_mse</th>\n",
              "      <th>epoch</th>\n",
              "    </tr>\n",
              "  </thead>\n",
              "  <tbody>\n",
              "    <tr>\n",
              "      <th>19</th>\n",
              "      <td>0.412373</td>\n",
              "      <td>0.497854</td>\n",
              "      <td>0.412373</td>\n",
              "      <td>0.520103</td>\n",
              "      <td>0.554672</td>\n",
              "      <td>0.520103</td>\n",
              "      <td>19</td>\n",
              "    </tr>\n",
              "    <tr>\n",
              "      <th>20</th>\n",
              "      <td>0.411949</td>\n",
              "      <td>0.498708</td>\n",
              "      <td>0.411949</td>\n",
              "      <td>0.516218</td>\n",
              "      <td>0.554880</td>\n",
              "      <td>0.516218</td>\n",
              "      <td>20</td>\n",
              "    </tr>\n",
              "    <tr>\n",
              "      <th>21</th>\n",
              "      <td>0.406083</td>\n",
              "      <td>0.498891</td>\n",
              "      <td>0.406083</td>\n",
              "      <td>0.518844</td>\n",
              "      <td>0.548525</td>\n",
              "      <td>0.518844</td>\n",
              "      <td>21</td>\n",
              "    </tr>\n",
              "    <tr>\n",
              "      <th>22</th>\n",
              "      <td>0.394715</td>\n",
              "      <td>0.489057</td>\n",
              "      <td>0.394715</td>\n",
              "      <td>0.500363</td>\n",
              "      <td>0.536464</td>\n",
              "      <td>0.500363</td>\n",
              "      <td>22</td>\n",
              "    </tr>\n",
              "    <tr>\n",
              "      <th>23</th>\n",
              "      <td>0.401167</td>\n",
              "      <td>0.492464</td>\n",
              "      <td>0.401167</td>\n",
              "      <td>0.515003</td>\n",
              "      <td>0.547964</td>\n",
              "      <td>0.515003</td>\n",
              "      <td>23</td>\n",
              "    </tr>\n",
              "  </tbody>\n",
              "</table>\n",
              "</div>"
            ],
            "text/plain": [
              "        loss       mae       mse  val_loss   val_mae   val_mse  epoch\n",
              "19  0.412373  0.497854  0.412373  0.520103  0.554672  0.520103  19   \n",
              "20  0.411949  0.498708  0.411949  0.516218  0.554880  0.516218  20   \n",
              "21  0.406083  0.498891  0.406083  0.518844  0.548525  0.518844  21   \n",
              "22  0.394715  0.489057  0.394715  0.500363  0.536464  0.500363  22   \n",
              "23  0.401167  0.492464  0.401167  0.515003  0.547964  0.515003  23   "
            ]
          },
          "metadata": {
            "tags": []
          },
          "execution_count": 18
        }
      ]
    },
    {
      "cell_type": "code",
      "metadata": {
        "colab": {
          "base_uri": "https://localhost:8080/",
          "height": 300
        },
        "id": "eA99CU0z-j5g",
        "outputId": "657c804e-8ef3-4aad-cb95-e9653a53d95f"
      },
      "source": [
        "plotter.plot({'Early Stopping': early_history}, metric = \"mae\")\n",
        "plt.ylim([0, 10])\n",
        "plt.ylabel('MAE [MPG]')"
      ],
      "execution_count": 19,
      "outputs": [
        {
          "output_type": "execute_result",
          "data": {
            "text/plain": [
              "Text(0, 0.5, 'MAE [MPG]')"
            ]
          },
          "metadata": {
            "tags": []
          },
          "execution_count": 19
        },
        {
          "output_type": "display_data",
          "data": {
            "image/png": "[encoded data removed]",
            "text/plain": [
              "<Figure size 432x288 with 1 Axes>"
            ]
          },
          "metadata": {
            "tags": [],
            "needs_background": "light"
          }
        }
      ]
    },
    {
      "cell_type": "code",
      "metadata": {
        "colab": {
          "base_uri": "https://localhost:8080/",
          "height": 283
        },
        "id": "1qnD3j1c-mjF",
        "outputId": "8c762dcb-249d-4174-9d26-550893d00d4a"
      },
      "source": [
        "test_predictions = model.predict(normed_test_data).flatten()\n",
        "\n",
        "a = plt.axes(aspect='equal')\n",
        "plt.scatter(test_labels, test_predictions)\n",
        "plt.xlabel('True Values [quality]')\n",
        "plt.ylabel('Predictions [quality]')\n",
        "lims = [0, 10]\n",
        "plt.xlim(lims)\n",
        "plt.ylim(lims)\n",
        "_ = plt.plot(lims, lims)\n"
      ],
      "execution_count": 20,
      "outputs": [
        {
          "output_type": "display_data",
          "data": {
            "image/png": "[encoded data removed]",
            "text/plain": [
              "<Figure size 432x288 with 1 Axes>"
            ]
          },
          "metadata": {
            "tags": [],
            "needs_background": "light"
          }
        }
      ]
    },
    {
      "cell_type": "code",
      "metadata": {
        "id": "rsDN4e7p-qF9"
      },
      "source": [
        ""
      ],
      "execution_count": null,
      "outputs": []
    }
  ]
}